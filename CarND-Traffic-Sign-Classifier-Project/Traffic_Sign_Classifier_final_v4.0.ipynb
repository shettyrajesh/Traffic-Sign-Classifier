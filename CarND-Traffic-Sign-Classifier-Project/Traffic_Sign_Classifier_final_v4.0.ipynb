{
 "cells": [
  {
   "cell_type": "markdown",
   "metadata": {
    "deletable": true,
    "editable": true
   },
   "source": [
    "# Self-Driving Car Engineer Nanodegree\n",
    "\n",
    "## Deep Learning\n",
    "\n",
    "## Project: Build a Traffic Sign Recognition Classifier\n",
    "\n",
    "In this notebook, a template is provided for you to implement your functionality in stages, which is required to successfully complete this project. If additional code is required that cannot be included in the notebook, be sure that the Python code is successfully imported and included in your submission if necessary. \n",
    "\n",
    "> **Note**: Once you have completed all of the code implementations, you need to finalize your work by exporting the iPython Notebook as an HTML document. Before exporting the notebook to html, all of the code cells need to have been run so that reviewers can see the final implementation and output. You can then export the notebook by using the menu above and navigating to  \\n\",\n",
    "    \"**File -> Download as -> HTML (.html)**. Include the finished document along with this notebook as your submission. \n",
    "\n",
    "In addition to implementing code, there is a writeup to complete. The writeup should be completed in a separate file, which can be either a markdown file or a pdf document. There is a [write up template](https://github.com/udacity/CarND-Traffic-Sign-Classifier-Project/blob/master/writeup_template.md) that can be used to guide the writing process. Completing the code template and writeup template will cover all of the [rubric points](https://review.udacity.com/#!/rubrics/481/view) for this project.\n",
    "\n",
    "The [rubric](https://review.udacity.com/#!/rubrics/481/view) contains \"Stand Out Suggestions\" for enhancing the project beyond the minimum requirements. The stand out suggestions are optional. If you decide to pursue the \"stand out suggestions\", you can include the code in this Ipython notebook and also discuss the results in the writeup file.\n",
    "\n",
    "\n",
    ">**Note:** Code and Markdown cells can be executed using the **Shift + Enter** keyboard shortcut. In addition, Markdown cells can be edited by typically double-clicking the cell to enter edit mode."
   ]
  },
  {
   "cell_type": "markdown",
   "metadata": {
    "deletable": true,
    "editable": true
   },
   "source": [
    "---\n",
    "## Step 0: Load The Data"
   ]
  },
  {
   "cell_type": "code",
   "execution_count": 1,
   "metadata": {
    "collapsed": false,
    "deletable": true,
    "editable": true
   },
   "outputs": [],
   "source": [
    "# Load pickled data\n",
    "import pickle\n",
    "import numpy as np\n",
    "import matplotlib.pyplot as plt\n",
    "import cv2\n",
    "import time\n",
    "\n",
    "import tensorflow as tf\n",
    "from tensorflow.contrib.layers import flatten"
   ]
  },
  {
   "cell_type": "code",
   "execution_count": 2,
   "metadata": {
    "collapsed": false,
    "deletable": true,
    "editable": true
   },
   "outputs": [],
   "source": [
    "# TODO: Fill this in based on where you saved the training and testing data\n",
    "\n",
    "training_file = 'traffic-signs-data/train.p'\n",
    "validation_file= 'traffic-signs-data/valid.p'\n",
    "testing_file = 'traffic-signs-data/test.p'\n",
    "\n",
    "with open(training_file, mode='rb') as f:\n",
    "    train = pickle.load(f)\n",
    "with open(validation_file, mode='rb') as f:\n",
    "    valid = pickle.load(f)\n",
    "with open(testing_file, mode='rb') as f:\n",
    "    test = pickle.load(f)\n",
    "    \n",
    "X_train, y_train = train['features'], train['labels']\n",
    "X_valid, y_valid = valid['features'], valid['labels']\n",
    "X_test, y_test = test['features'], test['labels']"
   ]
  },
  {
   "cell_type": "markdown",
   "metadata": {
    "deletable": true,
    "editable": true
   },
   "source": [
    "---\n",
    "\n",
    "## Step 1: Dataset Summary & Exploration\n",
    "\n",
    "The pickled data is a dictionary with 4 key/value pairs:\n",
    "\n",
    "- `'features'` is a 4D array containing raw pixel data of the traffic sign images, (num examples, width, height, channels).\n",
    "- `'labels'` is a 1D array containing the label/class id of the traffic sign. The file `signnames.csv` contains id -> name mappings for each id.\n",
    "- `'sizes'` is a list containing tuples, (width, height) representing the original width and height the image.\n",
    "- `'coords'` is a list containing tuples, (x1, y1, x2, y2) representing coordinates of a bounding box around the sign in the image. **THESE COORDINATES ASSUME THE ORIGINAL IMAGE. THE PICKLED DATA CONTAINS RESIZED VERSIONS (32 by 32) OF THESE IMAGES**\n",
    "\n",
    "Complete the basic data summary below. Use python, numpy and/or pandas methods to calculate the data summary rather than hard coding the results. For example, the [pandas shape method](http://pandas.pydata.org/pandas-docs/stable/generated/pandas.DataFrame.shape.html) might be useful for calculating some of the summary results. "
   ]
  },
  {
   "cell_type": "markdown",
   "metadata": {
    "deletable": true,
    "editable": true
   },
   "source": [
    "### Provide a Basic Summary of the Data Set Using Python, Numpy and/or Pandas"
   ]
  },
  {
   "cell_type": "code",
   "execution_count": 3,
   "metadata": {
    "collapsed": false,
    "deletable": true,
    "editable": true
   },
   "outputs": [
    {
     "name": "stdout",
     "output_type": "stream",
     "text": [
      "Number of training examples = 34799\n",
      "Number of testing examples = 12630\n",
      "Image data shape = (32, 32, 3)\n",
      "Number of classes = 43\n"
     ]
    }
   ],
   "source": [
    "### Replace each question mark with the appropriate value. \n",
    "### Use python, pandas or numpy methods rather than hard coding the results\n",
    "\n",
    "# TODO: Number of training examples\n",
    "n_train = X_train.shape[0]\n",
    "\n",
    "# TODO: Number of testing examples.\n",
    "n_test = X_test.shape[0]\n",
    "\n",
    "# TODO: What's the shape of an traffic sign image?\n",
    "image_shape = (X_train[0].shape)\n",
    "\n",
    "# TODO: How many unique classes/labels there are in the dataset.\n",
    "unique_labels = np.unique(y_train)\n",
    "n_classes = len(unique_labels)\n",
    "\n",
    "print(\"Number of training examples =\", n_train)\n",
    "print(\"Number of testing examples =\", n_test)\n",
    "print(\"Image data shape =\", image_shape)\n",
    "print(\"Number of classes =\", n_classes)"
   ]
  },
  {
   "cell_type": "markdown",
   "metadata": {
    "deletable": true,
    "editable": true
   },
   "source": [
    "### Include an exploratory visualization of the dataset"
   ]
  },
  {
   "cell_type": "markdown",
   "metadata": {
    "deletable": true,
    "editable": true
   },
   "source": [
    "Visualize the German Traffic Signs Dataset using the pickled file(s). This is open ended, suggestions include: plotting traffic sign images, plotting the count of each sign, etc.\n",
    "\n",
    "The [Matplotlib](http://matplotlib.org/) [examples](http://matplotlib.org/examples/index.html) and [gallery](http://matplotlib.org/gallery.html) pages are a great resource for doing visualizations in Python.\n",
    "\n",
    "**NOTE:** It's recommended you start with something simple first. If you wish to do more, come back to it after you've completed the rest of the sections."
   ]
  },
  {
   "cell_type": "code",
   "execution_count": 4,
   "metadata": {
    "collapsed": false,
    "deletable": true,
    "editable": true
   },
   "outputs": [
    {
     "data": {
      "image/png": "[encoded data removed]",
      "text/plain": [
       "<matplotlib.figure.Figure at 0x1283270f0>"
      ]
     },
     "metadata": {},
     "output_type": "display_data"
    }
   ],
   "source": [
    "### Data exploration visualization code goes here.\n",
    "### Feel free to use as many code cells as needed.\n",
    "import matplotlib.pyplot as plt\n",
    "# Visualizations will be shown in the notebook.\n",
    "%matplotlib inline\n",
    "\n",
    "# Show an example of each class\n",
    "i = 1\n",
    "for label in unique_labels:\n",
    "        # Pick the first image for each label.\n",
    "        index = np.where(y_train == label)[0][0]\n",
    "        image = X_train[index]\n",
    "        plt.subplot(7, 7, i)\n",
    "        plt.axis('off')\n",
    "        i += 1\n",
    "        _ = plt.imshow(image)\n",
    "        \n",
    "plt.show()"
   ]
  },
  {
   "cell_type": "markdown",
   "metadata": {
    "deletable": true,
    "editable": true
   },
   "source": [
    "----\n",
    "\n",
    "## Step 2: Design and Test a Model Architecture\n",
    "\n",
    "Design and implement a deep learning model that learns to recognize traffic signs. Train and test your model on the [German Traffic Sign Dataset](http://benchmark.ini.rub.de/?section=gtsrb&subsection=dataset).\n",
    "\n",
    "The LeNet-5 implementation shown in the [classroom](https://classroom.udacity.com/nanodegrees/nd013/parts/fbf77062-5703-404e-b60c-95b78b2f3f9e/modules/6df7ae49-c61c-4bb2-a23e-6527e69209ec/lessons/601ae704-1035-4287-8b11-e2c2716217ad/concepts/d4aca031-508f-4e0b-b493-e7b706120f81) at the end of the CNN lesson is a solid starting point. You'll have to change the number of classes and possibly the preprocessing, but aside from that it's plug and play! \n",
    "\n",
    "With the LeNet-5 solution from the lecture, you should expect a validation set accuracy of about 0.89. To meet specifications, the validation set accuracy will need to be at least 0.93. It is possible to get an even higher accuracy, but 0.93 is the minimum for a successful project submission. \n",
    "\n",
    "There are various aspects to consider when thinking about this problem:\n",
    "\n",
    "- Neural network architecture (is the network over or underfitting?)\n",
    "- Play around preprocessing techniques (normalization, rgb to grayscale, etc)\n",
    "- Number of examples per label (some have more than others).\n",
    "- Generate fake data.\n",
    "\n",
    "Here is an example of a [published baseline model on this problem](http://yann.lecun.com/exdb/publis/pdf/sermanet-ijcnn-11.pdf). It's not required to be familiar with the approach used in the paper but, it's good practice to try to read papers like these."
   ]
  },
  {
   "cell_type": "markdown",
   "metadata": {
    "deletable": true,
    "editable": true
   },
   "source": [
    "### Pre-process the Data Set (normalization, grayscale, etc.)"
   ]
  },
  {
   "cell_type": "markdown",
   "metadata": {
    "deletable": true,
    "editable": true
   },
   "source": [
    "Use the code cell (or multiple code cells, if necessary) to implement the first step of your project."
   ]
  },
  {
   "cell_type": "code",
   "execution_count": 5,
   "metadata": {
    "collapsed": false,
    "deletable": true,
    "editable": true
   },
   "outputs": [
    {
     "data": {
      "image/png": "[encoded data removed]",
      "text/plain": [
       "<matplotlib.figure.Figure at 0x13e08ccc0>"
      ]
     },
     "metadata": {},
     "output_type": "display_data"
    }
   ],
   "source": [
    "# Let's check the distribution of training data in terms of classes\n",
    "\n",
    "x= np.arange(0,n_classes)\n",
    "plt.hist(y_train, bins=n_classes,rwidth=0.85)\n",
    "plt.title('Number of examples of each sign/class')\n",
    "plt.xlabel('Sign/Class')\n",
    "plt.ylabel('Count')\n",
    "plt.show()"
   ]
  },
  {
   "cell_type": "code",
   "execution_count": null,
   "metadata": {
    "collapsed": true,
    "deletable": true,
    "editable": true
   },
   "outputs": [],
   "source": [
    "from imgaug.imgaug import augmenters as iaa\n",
    "import imgaug.imgaug as ia\n",
    "\n",
    "seq = iaa.Sequential([\n",
    "   iaa.Crop(px=(2,2,2,2)), # crop images from each side by 0 to 2 px (randomly chosen)\n",
    "   iaa.Add((-10, 10), per_channel=0.5),\n",
    "   iaa.Multiply((0.8, 1.2), per_channel=0.5),\n",
    "   iaa.Affine(\n",
    "           scale={\"x\": (0.9, 1.1), \"y\": (0.9, 1.1)}, # scale images to 80-120% of their size, individually per axis\n",
    "           translate_px={\"x\": (-2, 2), \"y\": (2, 2)}, # translate by -16 to +16 pixels (per axis)\n",
    "           rotate=(-15, 15), # rotate by -45 to +45 degrees\n",
    "           shear=(-10, 10), # shear by -16 to +16 degrees\n",
    "           order=ia.ALL, # use any of scikit-image's interpolation methods\n",
    "           mode=ia.ALL # use any of scikit-image's warping modes (see 2nd image from the top for examples)\n",
    "       ),\n",
    "])\n",
    "# Desired size of the image per class\n",
    "new_number_images_per_class = 5000\n",
    "# Define new X and Y to store values\n",
    "new_X_train = None\n",
    "new_y_train = None\n",
    "# Generating new X and y\n",
    "if False:\n",
    "    for index in x: # in every image class\n",
    "        print('Processing index #{}'.format(index))\n",
    "        temp_X_real = X_train[y_train == index].copy()\n",
    "        new_X_matrix = X_train[y_train == index].copy()\n",
    "        while new_X_matrix.shape[0] < new_number_images_per_class:\n",
    "            new_X_matrix = np.concatenate((new_X_matrix,seq.augment_images(temp_X_real)))\n",
    "\n",
    "        if new_X_train is None: # for the first loop\n",
    "            new_X_train = new_X_matrix.copy()\n",
    "            new_y_train = np.empty(new_X_matrix.shape[0])\n",
    "            new_y_train.fill(index)\n",
    "        else:\n",
    "            new_X_train = np.concatenate((new_X_train,new_X_matrix))\n",
    "            new_y_vals = np.empty(new_X_matrix.shape[0])\n",
    "            new_y_vals.fill(index)\n",
    "            new_y_train = np.concatenate((new_y_train,new_y_vals))\n",
    "# Save result to pickle\n",
    "np.save('X_train',new_X_train)\n",
    "np.save('y_train',new_y_train)"
   ]
  },
  {
   "cell_type": "code",
   "execution_count": 6,
   "metadata": {
    "collapsed": false,
    "deletable": true,
    "editable": true
   },
   "outputs": [
    {
     "name": "stdout",
     "output_type": "stream",
     "text": [
      "Before pre-processing\n",
      "(34799, 32, 32, 3)\n"
     ]
    }
   ],
   "source": [
    "### Preprocess the data here. Preprocessing steps could include normalization, converting to grayscale, etc.\n",
    "### Feel free to use as many code cells as needed.\n",
    "# PRE PROCESSING\n",
    "\n",
    "def pre_process(img):\n",
    "    img = np.array(img, dtype=np.uint8)\n",
    "    img = cv2.cvtColor(img, cv2.COLOR_BGR2GRAY)\n",
    "    img = ((img - [128.0]) / 128.0)\n",
    "    return img.reshape(32,32,1)\n",
    "\n",
    "\n",
    "def pre_process_CLAHE(img):\n",
    "    img = np.array(img, dtype=np.uint8)\n",
    "    clahe = cv2.createCLAHE(clipLimit=2.0, tileGridSize=(8,8))\n",
    "    img = clahe.apply(img)\n",
    "    return img.reshape(32,32,1)\n",
    "\n",
    "# Shuffle training examples\n",
    "from sklearn.utils import shuffle\n",
    "X_train, y_train = shuffle(X_train, y_train, random_state=42)\n",
    "\n",
    "# # Normalise input (images still in colour)\n",
    "# X_train = (X_train - X_train.mean()) / (np.max(X_train) - np.min(X_train))\n",
    "# X_test = (X_test - X_test.mean()) / (np.max(X_test) - np.min(X_test))\n",
    "\n",
    "# X_train = np.array(list(map(pre_process, X_train)))\n",
    "# X_valid = np.array(list(map(pre_process, X_valid)))\n",
    "print(\"Before pre-processing\")\n",
    "print(X_train.shape)"
   ]
  },
  {
   "cell_type": "code",
   "execution_count": 7,
   "metadata": {
    "collapsed": true,
    "deletable": true,
    "editable": true
   },
   "outputs": [],
   "source": [
    "new_X_train = np.load('X_train.npy')\n",
    "new_y_train = np.load('y_train.npy')"
   ]
  },
  {
   "cell_type": "code",
   "execution_count": 8,
   "metadata": {
    "collapsed": true,
    "deletable": true,
    "editable": true
   },
   "outputs": [],
   "source": [
    "X_train, y_train = new_X_train.copy(), new_y_train.copy()"
   ]
  },
  {
   "cell_type": "code",
   "execution_count": 9,
   "metadata": {
    "collapsed": false,
    "deletable": true,
    "editable": true
   },
   "outputs": [
    {
     "name": "stdout",
     "output_type": "stream",
     "text": [
      "After pre-processing\n",
      "(229281, 32, 32, 1)\n"
     ]
    }
   ],
   "source": [
    "X_train = np.array(list(map(pre_process, X_train)))\n",
    "X_valid = np.array(list(map(pre_process, X_valid)))\n",
    "X_test = np.array(list(map(pre_process, X_test))) \n",
    "# X_train = np.array(list(map(pre_process_CLAHE, X_train)))\n",
    "# X_valid = np.array(list(map(pre_process_CLAHE, X_valid)))\n",
    "\n",
    "print(\"After pre-processing\")\n",
    "print(X_train.shape)"
   ]
  },
  {
   "cell_type": "code",
   "execution_count": 10,
   "metadata": {
    "collapsed": false,
    "deletable": true,
    "editable": true
   },
   "outputs": [
    {
     "name": "stdout",
     "output_type": "stream",
     "text": [
      "Number of training examples = 229281\n",
      "Number of testing examples = 12630\n",
      "Image data shape = (32, 32, 1)\n",
      "Number of classes = 43\n"
     ]
    }
   ],
   "source": [
    "### Replace each question mark with the appropriate value. \n",
    "### Use python, pandas or numpy methods rather than hard coding the results\n",
    "\n",
    "# TODO: Number of training examples\n",
    "n_train = X_train.shape[0]\n",
    "\n",
    "# TODO: Number of testing examples.\n",
    "n_test = X_test.shape[0]\n",
    "\n",
    "# TODO: What's the shape of an traffic sign image?\n",
    "image_shape = (X_train[0].shape)\n",
    "\n",
    "# TODO: How many unique classes/labels there are in the dataset.\n",
    "unique_labels = np.unique(y_train)\n",
    "n_classes = len(unique_labels)\n",
    "\n",
    "print(\"Number of training examples =\", n_train)\n",
    "print(\"Number of testing examples =\", n_test)\n",
    "print(\"Image data shape =\", image_shape)\n",
    "print(\"Number of classes =\", n_classes)"
   ]
  },
  {
   "cell_type": "code",
   "execution_count": 11,
   "metadata": {
    "collapsed": false,
    "deletable": true,
    "editable": true
   },
   "outputs": [
    {
     "data": {
      "image/png": "[encoded data removed]",
      "text/plain": [
       "<matplotlib.figure.Figure at 0x13d50e668>"
      ]
     },
     "metadata": {},
     "output_type": "display_data"
    }
   ],
   "source": [
    "# Let's check the distribution of training data in terms of classes\n",
    "\n",
    "x= np.arange(0,n_classes)\n",
    "plt.hist(y_train, bins=n_classes,rwidth=0.85)\n",
    "plt.title('Number of examples of each sign/class')\n",
    "plt.xlabel('Sign/Class')\n",
    "plt.ylabel('Count')\n",
    "plt.show()"
   ]
  },
  {
   "cell_type": "markdown",
   "metadata": {
    "deletable": true,
    "editable": true
   },
   "source": [
    "### Model Architecture"
   ]
  },
  {
   "cell_type": "code",
   "execution_count": 12,
   "metadata": {
    "collapsed": true,
    "deletable": true,
    "editable": true
   },
   "outputs": [],
   "source": [
    "### Define your architecture here.\n",
    "### Feel free to use as many code cells as needed."
   ]
  },
  {
   "cell_type": "markdown",
   "metadata": {
    "deletable": true,
    "editable": true
   },
   "source": [
    "### Train, Validate and Test the Model"
   ]
  },
  {
   "cell_type": "markdown",
   "metadata": {
    "deletable": true,
    "editable": true
   },
   "source": [
    "A validation set can be used to assess how well the model is performing. A low accuracy on the training and validation\n",
    "sets imply underfitting. A high accuracy on the training set but low accuracy on the validation set implies overfitting."
   ]
  },
  {
   "cell_type": "code",
   "execution_count": 14,
   "metadata": {
    "collapsed": true,
    "deletable": true,
    "editable": true
   },
   "outputs": [],
   "source": [
    "### Train your model here.\n",
    "### Calculate and report the accuracy on the training and validation set.\n",
    "### Once a final model architecture is selected, \n",
    "### the accuracy on the test set should be calculated and reported as well.\n",
    "### Feel free to use as many code cells as needed."
   ]
  },
  {
   "cell_type": "code",
   "execution_count": 15,
   "metadata": {
    "collapsed": true,
    "deletable": true,
    "editable": true
   },
   "outputs": [],
   "source": [
    "from tensorflow.contrib.layers import flatten\n",
    "\n",
    "model_dropout_conv = 0.7\n",
    "model_dropout_fc = 0.7\n",
    "\n",
    "# Comvolution Layers size calculations:\n",
    "\n",
    "# our input layer has a width of W and a height of H\n",
    "# our convolutional layer has a filter size F\n",
    "# we have a stride of S\n",
    "# a padding of P\n",
    "# and a filter depth of K,\n",
    "# The following formula gives us the width and height\n",
    "# new_height = (input_height - filter_height + 2 * P)/S + 1\n",
    "# new_width = (input_width - filter_width + 2 * P)/S + 1\n",
    "\n",
    "# VALID Padding, the output height and width are computed as:\n",
    "# out_height = ceil(float(in_height - filter_height + 1) / float(strides1))\n",
    "# out_width = ceil(float(in_width - filter_width + 1) / float(strides[2]))\n",
    "\n",
    "def LeNet(x):    \n",
    "    # Arguments used for tf.truncated_normal, randomly defines variables for the weights and biases for each layer\n",
    "    mu = 0\n",
    "    sigma = 0.1\n",
    "    \n",
    "    # SOLUTION: Layer 1: Convolutional. Input = 32x32x1. Output = 28x28x6.\n",
    "    conv1_W = tf.Variable(tf.truncated_normal(shape=(5, 5, 1, 6), mean = mu, stddev = sigma)) #height, width, Input depth, output depth \n",
    "    conv1_b = tf.Variable(tf.zeros(6))\n",
    "    conv1   = tf.nn.conv2d(x, conv1_W, strides=[1, 1, 1, 1], padding='VALID') + conv1_b\n",
    "\n",
    "    # SOLUTION: Activation.\n",
    "    conv1 = tf.nn.relu(conv1)\n",
    "\n",
    "    # SOLUTION: Pooling. Input = 28x28x6. Output = 27x27x6.\n",
    "    conv1 = tf.nn.max_pool(conv1, ksize=[1, 2, 2, 1], strides=[1, 1, 1, 1], padding='VALID')\n",
    "    # new_height = (input_height - filter_height)/S + 1\n",
    "    # new_width = (input_width - filter_width)/S + 1\n",
    "\n",
    "    # SOLUTION: Layer 2: Convolutional. Input = 27x27x6. Output = 23x23x16.\n",
    "    conv2_W = tf.Variable(tf.truncated_normal(shape=(5, 5, 6, 16), mean = mu, stddev = sigma))\n",
    "    conv2_b = tf.Variable(tf.zeros(16))\n",
    "    conv2   = tf.nn.conv2d(conv1, conv2_W, strides=[1, 1, 1, 1], padding='VALID') + conv2_b\n",
    "    \n",
    "    # SOLUTION: Activation.\n",
    "    conv2 = tf.nn.relu(conv2)\n",
    "\n",
    "    # SOLUTION: Pooling. Input = 23x23x16. Output = 22x22x16.\n",
    "    conv2 = tf.nn.max_pool(conv2, ksize=[1, 2, 2, 1], strides=[1, 1, 1, 1], padding='VALID')\n",
    "    \n",
    "    # SOULTION: DropOuts    \n",
    "    conv2 = tf.nn.dropout(conv2, model_dropout_conv)\n",
    "\n",
    "    # SOLUTION: Flatten. Input = 22x22x16. Output = 7744.\n",
    "    fc0   = flatten(conv2)\n",
    "    \n",
    "    # SOLUTION: Layer 3: Fully Connected. Input = 7744. Output = 1200.\n",
    "    fc1_W = tf.Variable(tf.truncated_normal(shape=(7744, 1200), mean = mu, stddev = sigma))\n",
    "    fc1_b = tf.Variable(tf.zeros(1200))\n",
    "    fc1   = tf.matmul(fc0, fc1_W) + fc1_b\n",
    "    \n",
    "    # SOLUTION: Activation.\n",
    "    fc1    = tf.nn.relu(fc1)\n",
    "\n",
    "    # SOULTION: DropOuts\n",
    "    fc1 = tf.nn.dropout(fc1, model_dropout_conv)\n",
    "\n",
    "    # SOLUTION: Layer 4: Fully Connected. Input = 1200. Output = 400.\n",
    "    fc2_W  = tf.Variable(tf.truncated_normal(shape=(1200, 400), mean = mu, stddev = sigma))\n",
    "    fc2_b  = tf.Variable(tf.zeros(400))\n",
    "    fc2    = tf.matmul(fc1, fc2_W) + fc2_b\n",
    "    \n",
    "    # SOLUTION: Activation.\n",
    "    fc2    = tf.nn.relu(fc2)\n",
    "\n",
    "    # SOLUTION: Layer 5: Fully Connected. Input = 400. Output = 43.\n",
    "    fc3_W  = tf.Variable(tf.truncated_normal(shape=(400, 43), mean = mu, stddev = sigma))\n",
    "    fc3_b  = tf.Variable(tf.zeros(43))\n",
    "    logits = tf.matmul(fc2, fc3_W) + fc3_b\n",
    "    \n",
    "    return logits"
   ]
  },
  {
   "cell_type": "code",
   "execution_count": 16,
   "metadata": {
    "collapsed": true,
    "deletable": true,
    "editable": true
   },
   "outputs": [],
   "source": [
    "# tf Graph input\n",
    "tf.reset_default_graph() \n",
    "x_unflattened = tf.placeholder(\"float\", [None, 32, 32, 1])\n",
    "x = x_unflattened\n",
    "\n",
    "y = tf.placeholder(\"int32\", [None])\n",
    "one_hot_y = tf.one_hot(y, depth=43, on_value=1., off_value=0., axis=-1)"
   ]
  },
  {
   "cell_type": "code",
   "execution_count": 18,
   "metadata": {
    "collapsed": false,
    "deletable": true,
    "editable": true
   },
   "outputs": [],
   "source": [
    "learning_rate = 0.001\n",
    "EPOCHS = 60 \n",
    "BATCH_SIZE = 256\n",
    "n_train = len(X_train)\n",
    "\n",
    "logits = LeNet(x)\n",
    "cross_entropy = tf.nn.softmax_cross_entropy_with_logits(logits=logits, labels=one_hot_y)\n",
    "loss_operation = tf.reduce_mean(cross_entropy)\n",
    "optimizer = tf.train.AdamOptimizer(learning_rate = learning_rate)\n",
    "training_operation = optimizer.minimize(loss_operation)"
   ]
  },
  {
   "cell_type": "code",
   "execution_count": 19,
   "metadata": {
    "collapsed": true,
    "deletable": true,
    "editable": true
   },
   "outputs": [],
   "source": [
    "correct_prediction = tf.equal(tf.argmax(logits, 1), tf.argmax(one_hot_y, 1))\n",
    "accuracy_operation = tf.reduce_mean(tf.cast(correct_prediction, tf.float32))\n",
    "saver = tf.train.Saver()\n",
    "\n",
    "def evaluate(X_data, y_data):\n",
    "    num_examples = len(X_data)\n",
    "    total_accuracy = 0\n",
    "    sess = tf.get_default_session()\n",
    "    for offset in range(0, num_examples, BATCH_SIZE):\n",
    "        batch_x, batch_y = X_data[offset:offset+BATCH_SIZE], y_data[offset:offset+BATCH_SIZE]\n",
    "        accuracy = sess.run(accuracy_operation, feed_dict={x: batch_x, y: batch_y})\n",
    "        total_accuracy += (accuracy * len(batch_x))\n",
    "    return total_accuracy / num_examples"
   ]
  },
  {
   "cell_type": "code",
   "execution_count": 20,
   "metadata": {
    "collapsed": false,
    "deletable": true,
    "editable": true
   },
   "outputs": [
    {
     "name": "stdout",
     "output_type": "stream",
     "text": [
      "Training...\n",
      "\n",
      "EPOCH 1 ...\n",
      "Validation Accuracy = 0.855\n",
      "\n",
      "EPOCH 2 ...\n",
      "Validation Accuracy = 0.910\n",
      "\n",
      "EPOCH 3 ...\n",
      "Validation Accuracy = 0.924\n",
      "\n",
      "EPOCH 4 ...\n",
      "Validation Accuracy = 0.929\n",
      "\n",
      "EPOCH 5 ...\n",
      "Validation Accuracy = 0.929\n",
      "\n",
      "EPOCH 6 ...\n",
      "Validation Accuracy = 0.918\n",
      "\n",
      "EPOCH 7 ...\n",
      "Validation Accuracy = 0.935\n",
      "\n",
      "EPOCH 8 ...\n",
      "Validation Accuracy = 0.935\n",
      "\n",
      "EPOCH 9 ...\n",
      "Validation Accuracy = 0.940\n",
      "\n",
      "EPOCH 10 ...\n",
      "Validation Accuracy = 0.941\n",
      "\n",
      "EPOCH 11 ...\n",
      "Validation Accuracy = 0.945\n",
      "\n",
      "EPOCH 12 ...\n",
      "Validation Accuracy = 0.942\n",
      "\n",
      "EPOCH 13 ...\n",
      "Validation Accuracy = 0.938\n",
      "\n",
      "EPOCH 14 ...\n",
      "Validation Accuracy = 0.948\n",
      "\n",
      "EPOCH 15 ...\n",
      "Validation Accuracy = 0.936\n",
      "\n",
      "EPOCH 16 ...\n",
      "Validation Accuracy = 0.941\n",
      "\n",
      "EPOCH 17 ...\n",
      "Validation Accuracy = 0.941\n",
      "\n",
      "EPOCH 18 ...\n",
      "Validation Accuracy = 0.943\n",
      "\n",
      "EPOCH 19 ...\n",
      "Validation Accuracy = 0.937\n",
      "\n",
      "EPOCH 20 ...\n",
      "Validation Accuracy = 0.939\n",
      "\n",
      "EPOCH 21 ...\n",
      "Validation Accuracy = 0.936\n",
      "\n",
      "EPOCH 22 ...\n",
      "Validation Accuracy = 0.952\n",
      "\n",
      "EPOCH 23 ...\n",
      "Validation Accuracy = 0.946\n",
      "\n",
      "EPOCH 24 ...\n",
      "Validation Accuracy = 0.955\n",
      "\n",
      "EPOCH 25 ...\n",
      "Validation Accuracy = 0.940\n",
      "\n",
      "EPOCH 26 ...\n",
      "Validation Accuracy = 0.935\n",
      "\n",
      "EPOCH 27 ...\n",
      "Validation Accuracy = 0.949\n",
      "\n",
      "EPOCH 28 ...\n",
      "Validation Accuracy = 0.953\n",
      "\n",
      "EPOCH 29 ...\n",
      "Validation Accuracy = 0.959\n",
      "\n",
      "EPOCH 30 ...\n",
      "Validation Accuracy = 0.952\n",
      "\n",
      "EPOCH 31 ...\n",
      "Validation Accuracy = 0.954\n",
      "\n",
      "EPOCH 32 ...\n",
      "Validation Accuracy = 0.954\n",
      "\n",
      "EPOCH 33 ...\n",
      "Validation Accuracy = 0.947\n",
      "\n",
      "EPOCH 34 ...\n",
      "Validation Accuracy = 0.954\n",
      "\n",
      "EPOCH 35 ...\n",
      "Validation Accuracy = 0.956\n",
      "\n",
      "EPOCH 36 ...\n",
      "Validation Accuracy = 0.947\n",
      "\n",
      "EPOCH 37 ...\n",
      "Validation Accuracy = 0.945\n",
      "\n",
      "EPOCH 38 ...\n",
      "Validation Accuracy = 0.953\n",
      "\n",
      "EPOCH 39 ...\n",
      "Validation Accuracy = 0.949\n",
      "\n",
      "EPOCH 40 ...\n",
      "Validation Accuracy = 0.956\n",
      "\n",
      "EPOCH 41 ...\n",
      "Validation Accuracy = 0.955\n",
      "\n",
      "EPOCH 42 ...\n",
      "Validation Accuracy = 0.953\n",
      "\n",
      "EPOCH 43 ...\n",
      "Validation Accuracy = 0.950\n",
      "\n",
      "EPOCH 44 ...\n",
      "Validation Accuracy = 0.958\n",
      "\n",
      "EPOCH 45 ...\n",
      "Validation Accuracy = 0.946\n",
      "\n",
      "EPOCH 46 ...\n",
      "Validation Accuracy = 0.962\n",
      "\n",
      "EPOCH 47 ...\n",
      "Validation Accuracy = 0.954\n",
      "\n",
      "EPOCH 48 ...\n",
      "Validation Accuracy = 0.950\n",
      "\n",
      "EPOCH 49 ...\n",
      "Validation Accuracy = 0.953\n",
      "\n",
      "EPOCH 50 ...\n",
      "Validation Accuracy = 0.942\n",
      "\n",
      "EPOCH 51 ...\n",
      "Validation Accuracy = 0.964\n",
      "\n",
      "EPOCH 52 ...\n",
      "Validation Accuracy = 0.966\n",
      "\n",
      "EPOCH 53 ...\n",
      "Validation Accuracy = 0.958\n",
      "\n",
      "EPOCH 54 ...\n",
      "Validation Accuracy = 0.958\n",
      "\n",
      "EPOCH 55 ...\n",
      "Validation Accuracy = 0.962\n",
      "\n",
      "EPOCH 56 ...\n",
      "Validation Accuracy = 0.960\n",
      "\n",
      "EPOCH 57 ...\n",
      "Validation Accuracy = 0.962\n",
      "\n",
      "EPOCH 58 ...\n",
      "Validation Accuracy = 0.961\n",
      "\n",
      "EPOCH 59 ...\n",
      "Validation Accuracy = 0.944\n",
      "\n",
      "EPOCH 60 ...\n",
      "Validation Accuracy = 0.958\n",
      "\n",
      "Model saved\n",
      "\n",
      "Parameters:\n",
      "Learning rate (initial):  0.001\n",
      "Learning rate (final):  0.001\n",
      "Training epochs:  60\n",
      "Batch size:  256\n",
      "Dropout (conv):  0.7\n",
      "Dropout (fc):  0.7\n"
     ]
    }
   ],
   "source": [
    "with tf.Session() as sess:\n",
    "    sess.run(tf.global_variables_initializer())\n",
    "    num_examples = len(X_train)\n",
    "    \n",
    "    print(\"Training...\")\n",
    "    print()\n",
    "    for i in range(EPOCHS):\n",
    "        X_train, y_train = shuffle(X_train, y_train)\n",
    "        for offset in range(0, num_examples, BATCH_SIZE):\n",
    "            end = offset + BATCH_SIZE\n",
    "            batch_x, batch_y = X_train[offset:end], y_train[offset:end]\n",
    "            sess.run(training_operation, feed_dict={x: batch_x, y: batch_y})\n",
    "            \n",
    "        validation_accuracy = evaluate(X_valid, y_valid)\n",
    "        print(\"EPOCH {} ...\".format(i+1))\n",
    "        print(\"Validation Accuracy = {:.3f}\".format(validation_accuracy))\n",
    "        print()\n",
    "        \n",
    "#     saver.save(sess, './Basic_LeNet_model_Original_data_EPOCH_60_Dropout07_Trial18')\n",
    "    saver.save(sess, './Trial 20')\n",
    "    print(\"Model saved\")\n",
    "    \n",
    "# Print parameters for reference\n",
    "print(\"\\nParameters:\")\n",
    "print(\"Learning rate (final): \", learning_rate)\n",
    "print(\"Training epochs: \", EPOCHS)\n",
    "print(\"Batch size: \", BATCH_SIZE)\n",
    "print(\"Dropout (conv): \", model_dropout_conv)\n",
    "print(\"Dropout (fc): \", model_dropout_fc)    "
   ]
  },
  {
   "cell_type": "code",
   "execution_count": 21,
   "metadata": {
    "collapsed": false,
    "deletable": true,
    "editable": true,
    "scrolled": true
   },
   "outputs": [
    {
     "name": "stdout",
     "output_type": "stream",
     "text": [
      "Train Accuracy = 0.998\n",
      "Validation Accuracy = 0.958\n",
      "Test Accuracy = 0.933\n"
     ]
    }
   ],
   "source": [
    "with tf.Session() as sess:\n",
    "    saver.restore(sess, tf.train.latest_checkpoint('.'))\n",
    "    \n",
    "    train_accuracy = evaluate(X_train, y_train)\n",
    "    valid_accuracy = evaluate(X_valid, y_valid)\n",
    "    test_accuracy = evaluate(X_test, y_test)\n",
    "    print(\"Train Accuracy = {:.3f}\".format(train_accuracy))\n",
    "    print(\"Validation Accuracy = {:.3f}\".format(valid_accuracy))\n",
    "    print(\"Test Accuracy = {:.3f}\".format(test_accuracy))"
   ]
  },
  {
   "cell_type": "code",
   "execution_count": null,
   "metadata": {
    "collapsed": true,
    "deletable": true,
    "editable": true
   },
   "outputs": [],
   "source": [
    "# Trial 18 run started at 2:46 PM 3/24/17 --- took 7 hours for 60 EPOCS on my laptop"
   ]
  },
  {
   "cell_type": "markdown",
   "metadata": {
    "deletable": true,
    "editable": true
   },
   "source": [
    "\n",
    "## Question 1\n",
    "\n",
    "Describe how you preprocessed the data. Why did you choose that technique?\n",
    "\n",
    "### Answer:\n",
    "I normalised the data. I found that normalising the data (as opposed to standardising it) gives the higher validation and training accuracy for a network. This is because it accelerates the convergence of the model to the solution (of accurate classificaion).\n",
    "Normalization takes the bias out of the equation as some features with larger values may have a strong learning bias associated with them.\n",
    "\n",
    "\n",
    "## Question 2\n",
    "\n",
    "Describe how you set up the training, validation and testing data for your model. Optional: If you generated additional data, how did you generate the data? Why did you generate the data? What are the differences in the new dataset (with generated data) from the original dataset?\n",
    "\n",
    "### Answer:\n",
    "\n",
    "#### Describe how you set up the training, validation and testing data for your model:\n",
    "\n",
    "Training, validation and test data were already separated (downloaded pickled files train.p, valid.p and test.p).\n",
    "\n",
    "#### how did you generate the data?\n",
    "\n",
    "I used the IMGAUG library to augment the data. Using IMGAUG following transformations were made - \n",
    "    scaled images to 80-120% of their size, individually per axis\n",
    "    translated by -16 to +16 pixels (per axis)\n",
    "    rotated by -45 to +45 degrees\n",
    "    sheared by -16 to +16 degrees\n",
    "    used any of scikit-image's interpolation methods\n",
    "    used any of scikit-image's warping modes \n",
    "\n",
    "#### Why did you generate the data?\n",
    "\n",
    "The classes data was unbalanced, could lead to bias to one set of classes v/s others\n",
    "I shuffled the training data because they were arranged in ascending order by label. If I don't shuffle the training data, the first series of batches will all be the first type of sign followed by the second type and so on. This will distort the learning process.\n",
    "\n",
    "#### What are the differences in the new dataset (with generated data) from the original dataset?\n",
    "\n",
    "Each label has almost thrice the number of examples ~ 5k samples\n",
    "\n",
    "## Question 3\n",
    "\n",
    "What does your final architecture look like? (Type of model, layers, sizes, connectivity, etc.) For reference on how to build a deep neural network using TensorFlow, see Deep Neural Network in TensorFlow from the classroom.\n",
    "\n",
    "### Answer:\n",
    "\n",
    "I had several trials (~20 trials) before arriving at this final model. I decided to make changes to the Lenet architecture as follows - \n",
    "\n",
    "     Layer 1: Convolutional. Input = 32x32x1. Output = 28x28x6, Filter shape=(5, 5, 1, 6) and Strides 1.\n",
    "     Relu Activation.\n",
    "     Pooling. Input = 28x28x6. Output = 27x27x6. ksize=[1, 2, 2, 1], strides=[1, 1, 1, 1], VALID padding.\n",
    "     Layer 2: Convolutional. Input = 27x27x6. Output = 23x23x16, Filter shape=(5, 5, 6, 16) and Strides 1.\n",
    "     Relu Activation.\n",
    "     Pooling. Input = 23x23x16. Output = 22x22x16. ksize=[1, 2, 2, 1], strides=[1, 1, 1, 1], VALID padding.\n",
    "     DropOuts. Keep_prod 0.7\n",
    "     Flatten. Input = 22x22x16. Output = 7744.\n",
    "     Layer 3: Fully Connected. Input = 7744. Output = 1200, mu = 0, sigma = 0.1  \n",
    "     Relu Activation\n",
    "     DropOuts, Keep_prod 0.7\n",
    "     Layer 4: Fully Connected. Input = 1200. Output = 400, mu = 0, sigma = 0.1  \n",
    "     Relu Activation\n",
    "     Layer 5: Fully Connected. Input = 400. Output = 43, mu = 0, sigma = 0.1  \n",
    "\n",
    "## Question 4\n",
    "\n",
    "How did you train your model? (Type of optimizer, batch size, epochs, hyperparameters, etc.)\n",
    "\n",
    "### Answer:\n",
    "\n",
    "    Optimizer: Adam optimizer - Adam optimizer uses moving averages of the parameters.\n",
    "    It generally performs better than the Gradient Decent Optimizer. \n",
    "\n",
    "    Learning rate: 0.001 - I tested a range(0.0001 - 0.01) of values.\n",
    "\n",
    "    Batch size: 256 - Larger batch size yield faster computation. Processing was done in batches.\n",
    "\n",
    "    EPOCHS: 60 - Started with 50, algorithm learns very fast after just a few epochs, so 25 is selected.\n",
    "\n",
    "See more detail on the screen shot below on the Trials.\n",
    "\n",
    "## Question 5\n",
    "\n",
    "What approach did you take in coming up with a solution to this problem? It may have been a process of trial and error, in which case, outline the steps you took to get to the final solution and why you chose those steps. Perhaps your solution involved an already well known implementation or architecture. In this case, discuss why you think this is suitable for the current problem.\n",
    "\n",
    "### Answer:\n",
    "\n",
    "I worked on the basic NN model first from the udacity classroom examples. Once I had more confidence, I switched to the more complex version. A few things I tried are as follow (see the image below tih all the options i explored with the results) - \n",
    "\n",
    "    Mutiple layer convolutional network\n",
    "    Multi Scale \n",
    "    CLAHE Histogram equalization\n",
    "    With agmented data the above were repeated\n",
    "    Also tweaked a bunch of parameters - dropputs, learning rate, epoch and batch sizes\n",
    "    Found the bet results with tweaks as explained above in Question 3, with the results - \n",
    "        Train Accuracy = 0.998\n",
    "        Validation Accuracy = 0.958\n",
    "        Test Accuracy = 0.933\n",
    "\n",
    "\n",
    "<img src=\"../files/Lane-Lines-Trails-Data.png\">"
   ]
  },
  {
   "cell_type": "markdown",
   "metadata": {
    "deletable": true,
    "editable": true
   },
   "source": [
    "---\n",
    "\n",
    "## Step 3: Test a Model on New Images\n",
    "\n",
    "To give yourself more insight into how your model is working, download at least five pictures of German traffic signs from the web and use your model to predict the traffic sign type.\n",
    "\n",
    "You may find `signnames.csv` useful as it contains mappings from the class id (integer) to the actual sign name."
   ]
  },
  {
   "cell_type": "markdown",
   "metadata": {
    "deletable": true,
    "editable": true
   },
   "source": [
    "### Load and Output the Images"
   ]
  },
  {
   "cell_type": "code",
   "execution_count": null,
   "metadata": {
    "collapsed": true,
    "deletable": true,
    "editable": true
   },
   "outputs": [],
   "source": [
    "### Load the images and plot them here.\n",
    "### Feel free to use as many code cells as needed."
   ]
  },
  {
   "cell_type": "code",
   "execution_count": 4,
   "metadata": {
    "collapsed": false,
    "deletable": true,
    "editable": true
   },
   "outputs": [],
   "source": [
    "\n",
    "### Load the images and plot them\n",
    "import cv2\n",
    "import numpy as np\n",
    "\n",
    "# Downloaded 8 images, used gimp to scale and resize\n",
    "german_test_image = [\n",
    "           'Lightat100metersv2.png', \n",
    "           'SCurvev2.png', \n",
    "           'UTurnfortrucksv2.png', \n",
    "           'bikev2.png', \n",
    "           'frogv2.png', \n",
    "           'kidsandbikev2.png', \n",
    "           'mergeroadsv2.png', \n",
    "           'peoplewalkingv2.png'\n",
    "          ]\n",
    "\n",
    "german_test_image_list = []\n",
    "\n",
    "for image in german_test_image:\n",
    "    img = cv2.imread('traffic-signs-data/' + image, 1)\n",
    "    img = cv2.resize(img, (32, 32))\n",
    "#     img = pre_process(img)\n",
    "    img = cv2.cvtColor(img, cv2.COLOR_BGR2GRAY)\n",
    "    img = img.reshape(32,32,1)\n",
    "    german_test_image_list.append(img)"
   ]
  },
  {
   "cell_type": "code",
   "execution_count": 5,
   "metadata": {
    "collapsed": false,
    "deletable": true,
    "editable": true
   },
   "outputs": [
    {
     "name": "stdout",
     "output_type": "stream",
     "text": [
      "8\n",
      "(32, 32, 3)\n",
      "0 255\n",
      "(8, 32, 32, 3)\n"
     ]
    }
   ],
   "source": [
    "print(len(german_test_image_list))\n",
    "print(german_test_image_list[0].shape)\n",
    "print(german_test_image_list[0].min(), german_test_image_list[0].max())\n",
    "arr = np.array(german_test_image_list)\n",
    "print(arr.shape)"
   ]
  },
  {
   "cell_type": "code",
   "execution_count": 8,
   "metadata": {
    "collapsed": false,
    "deletable": true,
    "editable": true
   },
   "outputs": [
    {
     "name": "stdout",
     "output_type": "stream",
     "text": [
      "[30 28 11 13 11 14 24 21]\n"
     ]
    }
   ],
   "source": [
    "import tensorflow as tf\n",
    "# Run the prediction\n",
    "with tf.Session() as sess:\n",
    "    saver.restore(sess, tf.train.latest_checkpoint('.'))\n",
    "    output = sess.run(tf.argmax(logits, 1), feed_dict={x: german_test_image_list})\n",
    "    print (output)\n",
    "  "
   ]
  },
  {
   "cell_type": "code",
   "execution_count": 110,
   "metadata": {
    "collapsed": false,
    "deletable": true,
    "editable": true
   },
   "outputs": [
    {
     "data": {
      "image/png": "[encoded data removed]",
      "text/plain": [
       "<matplotlib.figure.Figure at 0x12dd310b8>"
      ]
     },
     "metadata": {},
     "output_type": "display_data"
    }
   ],
   "source": [
    "# Plot an example of output\n",
    "#########\n",
    "j = 0\n",
    "for image in german_test_image:\n",
    "    img = cv2.imread('traffic-signs-data/' + image, 1)\n",
    "    plt.subplot(2, 8, j+1)\n",
    "    j += 1\n",
    "    plt.imshow(img, cmap='gray')\n",
    "    plt.axis('off')\n",
    "    \n",
    "for i in range(len(output)):\n",
    "    for n in range(len(y_train)):\n",
    "        if y_train[n] == output[i]:\n",
    "            plt.subplot(2, 8, i+9)\n",
    "            plt.imshow(new_X_train[n], cmap=\"gray\")\n",
    "            plt.axis('off')\n",
    "            plt.title(y_train[n])\n",
    "            break\n",
    "            \n",
    "# print(new_X_train.shape) \n",
    "# print(new_y_train.shape) \n",
    "\n",
    "#  return cv2.cvtColor(img, cv2.COLOR_RGB2GRAY)            "
   ]
  },
  {
   "cell_type": "code",
   "execution_count": 111,
   "metadata": {
    "collapsed": true,
    "deletable": true,
    "editable": true
   },
   "outputs": [],
   "source": [
    "import csv\n",
    "def getsignnames():\n",
    "    with open('signnames.csv', mode='r') as infile:\n",
    "        reader = csv.reader(infile)\n",
    "        return dict((rows[0], rows[1]) for rows in reader)"
   ]
  },
  {
   "cell_type": "code",
   "execution_count": 112,
   "metadata": {
    "collapsed": false,
    "deletable": true,
    "editable": true
   },
   "outputs": [
    {
     "name": "stdout",
     "output_type": "stream",
     "text": [
      "{'38': 'Keep right', '15': 'No vehicles', '17': 'No entry', '13': 'Yield', '14': 'Stop', '0': 'Speed limit (20km/h)', '33': 'Turn right ahead', '30': 'Beware of ice/snow', '10': 'No passing for vehicles over 3.5 metric tons', '20': 'Dangerous curve to the right', '25': 'Road work', '21': 'Double curve', '34': 'Turn left ahead', '8': 'Speed limit (120km/h)', '39': 'Keep left', '16': 'Vehicles over 3.5 metric tons prohibited', '35': 'Ahead only', '6': 'End of speed limit (80km/h)', '24': 'Road narrows on the right', '5': 'Speed limit (80km/h)', '32': 'End of all speed and passing limits', '40': 'Roundabout mandatory', '9': 'No passing', '2': 'Speed limit (50km/h)', '31': 'Wild animals crossing', '18': 'General caution', '29': 'Bicycles crossing', '26': 'Traffic signals', '7': 'Speed limit (100km/h)', '1': 'Speed limit (30km/h)', '3': 'Speed limit (60km/h)', 'ClassId': 'SignName', '19': 'Dangerous curve to the left', '22': 'Bumpy road', '12': 'Priority road', '4': 'Speed limit (70km/h)', '37': 'Go straight or left', '42': 'End of no passing by vehicles over 3.5 metric tons', '28': 'Children crossing', '23': 'Slippery road', '11': 'Right-of-way at the next intersection', '41': 'End of no passing', '36': 'Go straight or right', '27': 'Pedestrians'}\n"
     ]
    }
   ],
   "source": [
    "print(getsignnames())"
   ]
  },
  {
   "cell_type": "markdown",
   "metadata": {
    "deletable": true,
    "editable": true
   },
   "source": [
    "\n",
    "## Question 6\n",
    "\n",
    "Choose five candidate images of traffic signs and provide them in the report. Are there any particular qualities of the image(s) that might make classification difficult? It could be helpful to plot the images in the notebook.\n",
    "\n",
    "### Answer:\n",
    "\n",
    "The test images i picked from the web performed poorly against the trained model.\n",
    "The training dataset is German Traffic Signs, but the images I gathered data were from random places. Most of the ones I picked were found missing from the trining set. Additional angles and contrast my have played a factor.\n"
   ]
  },
  {
   "cell_type": "markdown",
   "metadata": {
    "deletable": true,
    "editable": true
   },
   "source": [
    "\n",
    "## Question 7\n",
    "\n",
    "Is your model able to perform equally well on captured pictures or a live camera stream when compared to testing on the dataset?\n",
    "\n",
    "### Answer:\n",
    "\n",
    "    See the captured pictures above.\n",
    "    The images i picked performed poorly.\n",
    "    The training dataset is German Traffic Signs, but the images I gathered data were from random places. \n",
    "    Most of the ones I picked were found missing from the trining set. \n",
    "    Additional angles and contrast my have played a factor."
   ]
  },
  {
   "cell_type": "markdown",
   "metadata": {
    "deletable": true,
    "editable": true
   },
   "source": [
    "### Predict the Sign Type for Each Image"
   ]
  },
  {
   "cell_type": "code",
   "execution_count": null,
   "metadata": {
    "collapsed": true,
    "deletable": true,
    "editable": true
   },
   "outputs": [],
   "source": [
    "### Run the predictions here and use the model to output the prediction for each image.\n",
    "### Make sure to pre-process the images with the same pre-processing pipeline used earlier.\n",
    "### Feel free to use as many code cells as needed."
   ]
  },
  {
   "cell_type": "markdown",
   "metadata": {
    "deletable": true,
    "editable": true
   },
   "source": [
    "### Analyze Performance"
   ]
  },
  {
   "cell_type": "code",
   "execution_count": null,
   "metadata": {
    "collapsed": true,
    "deletable": true,
    "editable": true
   },
   "outputs": [],
   "source": [
    "### Calculate the accuracy for these 5 new images. \n",
    "### For example, if the model predicted 1 out of 5 signs correctly, it's 20% accurate on these new images."
   ]
  },
  {
   "cell_type": "markdown",
   "metadata": {
    "deletable": true,
    "editable": true
   },
   "source": [
    "### Output Top 5 Softmax Probabilities For Each Image Found on the Web"
   ]
  },
  {
   "cell_type": "markdown",
   "metadata": {
    "deletable": true,
    "editable": true
   },
   "source": [
    "For each of the new images, print out the model's softmax probabilities to show the **certainty** of the model's predictions (limit the output to the top 5 probabilities for each image). [`tf.nn.top_k`](https://www.tensorflow.org/versions/r0.12/api_docs/python/nn.html#top_k) could prove helpful here. \n",
    "\n",
    "The example below demonstrates how tf.nn.top_k can be used to find the top k predictions for each image.\n",
    "\n",
    "`tf.nn.top_k` will return the values and indices (class ids) of the top k predictions. So if k=3, for each sign, it'll return the 3 largest probabilities (out of a possible 43) and the correspoding class ids.\n",
    "\n",
    "Take this numpy array as an example. The values in the array represent predictions. The array contains softmax probabilities for five candidate images with six possible classes. `tk.nn.top_k` is used to choose the three classes with the highest probability:\n",
    "\n",
    "```\n",
    "# (5, 6) array\n",
    "a = np.array([[ 0.24879643,  0.07032244,  0.12641572,  0.34763842,  0.07893497,\n",
    "         0.12789202],\n",
    "       [ 0.28086119,  0.27569815,  0.08594638,  0.0178669 ,  0.18063401,\n",
    "         0.15899337],\n",
    "       [ 0.26076848,  0.23664738,  0.08020603,  0.07001922,  0.1134371 ,\n",
    "         0.23892179],\n",
    "       [ 0.11943333,  0.29198961,  0.02605103,  0.26234032,  0.1351348 ,\n",
    "         0.16505091],\n",
    "       [ 0.09561176,  0.34396535,  0.0643941 ,  0.16240774,  0.24206137,\n",
    "         0.09155967]])\n",
    "```\n",
    "\n",
    "Running it through `sess.run(tf.nn.top_k(tf.constant(a), k=3))` produces:\n",
    "\n",
    "```\n",
    "TopKV2(values=array([[ 0.34763842,  0.24879643,  0.12789202],\n",
    "       [ 0.28086119,  0.27569815,  0.18063401],\n",
    "       [ 0.26076848,  0.23892179,  0.23664738],\n",
    "       [ 0.29198961,  0.26234032,  0.16505091],\n",
    "       [ 0.34396535,  0.24206137,  0.16240774]]), indices=array([[3, 0, 5],\n",
    "       [0, 1, 4],\n",
    "       [0, 5, 1],\n",
    "       [1, 3, 5],\n",
    "       [1, 4, 3]], dtype=int32))\n",
    "```\n",
    "\n",
    "Looking just at the first row we get `[ 0.34763842,  0.24879643,  0.12789202]`, you can confirm these are the 3 largest probabilities in `a`. You'll also notice `[3, 0, 5]` are the corresponding indices."
   ]
  },
  {
   "cell_type": "code",
   "execution_count": 99,
   "metadata": {
    "collapsed": false,
    "deletable": true,
    "editable": true
   },
   "outputs": [
    {
     "name": "stdout",
     "output_type": "stream",
     "text": [
      "TopKV2(values=array([[  1.00000000e+00,   0.00000000e+00],\n",
      "       [  1.00000000e+00,   0.00000000e+00],\n",
      "       [  1.00000000e+00,   0.00000000e+00],\n",
      "       ..., \n",
      "       [  9.99087334e-01,   9.12613235e-04],\n",
      "       [  9.99974012e-01,   1.97452991e-05],\n",
      "       [  1.00000000e+00,   2.38166945e-15]], dtype=float32), indices=array([[16,  0],\n",
      "       [ 1,  0],\n",
      "       [38,  0],\n",
      "       ..., \n",
      "       [12, 32],\n",
      "       [ 7,  5],\n",
      "       [10,  5]], dtype=int32))\n"
     ]
    }
   ],
   "source": [
    "# Try tf.nn.top_k\n",
    "with tf.Session() as sess:\n",
    "    prediction = tf.nn.softmax(logits)\n",
    "    saver.restore(sess, tf.train.latest_checkpoint('.'))\n",
    "    output = sess.run(tf.nn.top_k(prediction, 2), feed_dict={x: X_test})\n",
    "    print (output)"
   ]
  },
  {
   "cell_type": "code",
   "execution_count": 100,
   "metadata": {
    "collapsed": true,
    "deletable": true,
    "editable": true
   },
   "outputs": [],
   "source": [
    "# Try another way with correct_prediction\n",
    "with tf.Session() as sess:\n",
    "    output = {}\n",
    "    saver.restore(sess, tf.train.latest_checkpoint('.'))\n",
    "    \n",
    "    for i in range(43):\n",
    "        output[i] = sess.run(correct_prediction, feed_dict={x: X_test[np.where(y_test == i)], \n",
    "                                                            y: y_test[np.where(y_test == i)]})"
   ]
  },
  {
   "cell_type": "code",
   "execution_count": 101,
   "metadata": {
    "collapsed": false,
    "deletable": true,
    "editable": true
   },
   "outputs": [
    {
     "data": {
      "image/png": "[encoded data removed]",
      "text/plain": [
       "<matplotlib.figure.Figure at 0x13e1bc390>"
      ]
     },
     "metadata": {},
     "output_type": "display_data"
    },
    {
     "name": "stdout",
     "output_type": "stream",
     "text": [
      "{0: 0.9, 1: 0.9819444444444444, 2: 0.9786666666666667, 3: 0.9066666666666666, 4: 0.9575757575757575, 5: 0.8841269841269841, 6: 0.7, 7: 0.8755555555555555, 8: 0.9622222222222222, 9: 0.9895833333333334, 10: 0.9787878787878788, 11: 0.95, 12: 0.9565217391304348, 13: 0.9986111111111111, 14: 1.0, 15: 0.9619047619047619, 16: 0.9933333333333333, 17: 0.95, 18: 0.782051282051282, 19: 0.9833333333333333, 20: 0.9333333333333333, 21: 0.7222222222222222, 22: 0.8666666666666667, 23: 0.98, 24: 0.9222222222222223, 25: 0.975, 26: 0.8388888888888889, 27: 0.6333333333333333, 28: 0.9133333333333333, 29: 1.0, 30: 0.78, 31: 0.9666666666666667, 32: 1.0, 33: 0.9238095238095239, 34: 0.975, 35: 0.8769230769230769, 36: 0.9916666666666667, 37: 0.8666666666666667, 38: 0.9217391304347826, 39: 0.8555555555555555, 40: 0.7555555555555555, 41: 0.9, 42: 0.7888888888888889}\n"
     ]
    }
   ],
   "source": [
    "Correct_rate = {}\n",
    "for i in range(43):\n",
    "    Correct_rate[i] = list(output[i]).count(True)/len(list(output[i]))*1.0\n",
    "\n",
    "plt.bar(range(len(Correct_rate)), Correct_rate.values(), align='center')\n",
    "plt.title(\"Correct prediction rate of each label\")\n",
    "plt.show()\n",
    "print (Correct_rate)"
   ]
  },
  {
   "cell_type": "markdown",
   "metadata": {
    "collapsed": true,
    "deletable": true,
    "editable": true
   },
   "source": [
    "Print out the top five softmax probabilities for the predictions on the German traffic sign images found on the web. \n",
    "Feel free to use as many code cells as needed.\n",
    "## Answer\n",
    "It looks like 6-End of speed limit (80km/h), 18-General caution , 21-Double curve, 27-Double curve \n",
    "and 30 -Beware of ice/snow have the lowest accuracy."
   ]
  },
  {
   "cell_type": "markdown",
   "metadata": {
    "deletable": true,
    "editable": true
   },
   "source": [
    "---\n",
    "\n",
    "## Step 4: Visualize the Neural Network's State with Test Images\n",
    "\n",
    " This Section is not required to complete but acts as an additional excersise for understaning the output of a neural network's weights. While neural networks can be a great learning device they are often referred to as a black box. We can understand what the weights of a neural network look like better by plotting their feature maps. After successfully training your neural network you can see what it's feature maps look like by plotting the output of the network's weight layers in response to a test stimuli image. From these plotted feature maps, it's possible to see what characteristics of an image the network finds interesting. For a sign, maybe the inner network feature maps react with high activation to the sign's boundary outline or to the contrast in the sign's painted symbol.\n",
    "\n",
    " Provided for you below is the function code that allows you to get the visualization output of any tensorflow weight layer you want. The inputs to the function should be a stimuli image, one used during training or a new one you provided, and then the tensorflow variable name that represents the layer's state during the training process, for instance if you wanted to see what the [LeNet lab's](https://classroom.udacity.com/nanodegrees/nd013/parts/fbf77062-5703-404e-b60c-95b78b2f3f9e/modules/6df7ae49-c61c-4bb2-a23e-6527e69209ec/lessons/601ae704-1035-4287-8b11-e2c2716217ad/concepts/d4aca031-508f-4e0b-b493-e7b706120f81) feature maps looked like for it's second convolutional layer you could enter conv2 as the tf_activation variable.\n",
    "\n",
    "For an example of what feature map outputs look like, check out NVIDIA's results in their paper [End-to-End Deep Learning for Self-Driving Cars](https://devblogs.nvidia.com/parallelforall/deep-learning-self-driving-cars/) in the section Visualization of internal CNN State. NVIDIA was able to show that their network's inner weights had high activations to road boundary lines by comparing feature maps from an image with a clear path to one without. Try experimenting with a similar test to show that your trained network's weights are looking for interesting features, whether it's looking at differences in feature maps from images with or without a sign, or even what feature maps look like in a trained network vs a completely untrained one on the same sign image.\n",
    "\n",
    "<figure>\n",
    " <img src=\"visualize_cnn.png\" width=\"380\" alt=\"Combined Image\" />\n",
    " <figcaption>\n",
    " <p></p> \n",
    " <p style=\"text-align: center;\"> Your output should look something like this (above)</p> \n",
    " </figcaption>\n",
    "</figure>\n",
    " <p></p> \n"
   ]
  },
  {
   "cell_type": "code",
   "execution_count": 113,
   "metadata": {
    "collapsed": true,
    "deletable": true,
    "editable": true
   },
   "outputs": [],
   "source": [
    "### Visualize your network's feature maps here.\n",
    "### Feel free to use as many code cells as needed.\n",
    "\n",
    "# image_input: the test image being fed into the network to produce the feature maps\n",
    "# tf_activation: should be a tf variable name used during your training procedure that represents the calculated state of a specific weight layer\n",
    "# activation_min/max: can be used to view the activation contrast in more detail, by default matplot sets min and max to the actual min and max values of the output\n",
    "# plt_num: used to plot out multiple different weight feature map sets on the same block, just extend the plt number for each new feature map entry\n",
    "\n",
    "def outputFeatureMap(image_input, tf_activation, activation_min=-1, activation_max=-1 ,plt_num=1):\n",
    "    # Here make sure to preprocess your image_input in a way your network expects\n",
    "    # with size, normalization, ect if needed\n",
    "    # image_input =\n",
    "    # Note: x should be the same name as your network's tensorflow data placeholder variable\n",
    "    # If you get an error tf_activation is not defined it maybe having trouble accessing the variable from inside a function\n",
    "    activation = tf_activation.eval(session=sess,feed_dict={x : image_input})\n",
    "    featuremaps = activation.shape[3]\n",
    "    plt.figure(plt_num, figsize=(15,15))\n",
    "    for featuremap in range(featuremaps):\n",
    "        plt.subplot(6,8, featuremap+1) # sets the number of feature maps to show on each row and column\n",
    "        plt.title('FeatureMap ' + str(featuremap)) # displays the feature map number\n",
    "        if activation_min != -1 & activation_max != -1:\n",
    "            plt.imshow(activation[0,:,:, featuremap], interpolation=\"nearest\", vmin =activation_min, vmax=activation_max, cmap=\"gray\")\n",
    "        elif activation_max != -1:\n",
    "            plt.imshow(activation[0,:,:, featuremap], interpolation=\"nearest\", vmax=activation_max, cmap=\"gray\")\n",
    "        elif activation_min !=-1:\n",
    "            plt.imshow(activation[0,:,:, featuremap], interpolation=\"nearest\", vmin=activation_min, cmap=\"gray\")\n",
    "        else:\n",
    "            plt.imshow(activation[0,:,:, featuremap], interpolation=\"nearest\", cmap=\"gray\")"
   ]
  },
  {
   "cell_type": "markdown",
   "metadata": {
    "deletable": true,
    "editable": true
   },
   "source": [
    "### Question 9\n",
    "\n",
    "Discuss how you used the visual output of your trained network's feature maps to show that it had learned to look for interesting characteristics in traffic sign images\n"
   ]
  },
  {
   "cell_type": "markdown",
   "metadata": {
    "deletable": true,
    "editable": true
   },
   "source": [
    "**Answer:**"
   ]
  },
  {
   "cell_type": "markdown",
   "metadata": {
    "deletable": true,
    "editable": true
   },
   "source": [
    "> **Note**: Once you have completed all of the code implementations and successfully answered each question above, you may finalize your work by exporting the iPython Notebook as an HTML document. You can do this by using the menu above and navigating to  \\n\",\n",
    "    \"**File -> Download as -> HTML (.html)**. Include the finished document along with this notebook as your submission."
   ]
  },
  {
   "cell_type": "markdown",
   "metadata": {
    "deletable": true,
    "editable": true
   },
   "source": [
    "### Project Writeup\n",
    "\n",
    "Once you have completed the code implementation, document your results in a project writeup using this [template](https://github.com/udacity/CarND-Traffic-Sign-Classifier-Project/blob/master/writeup_template.md) as a guide. The writeup can be in a markdown or pdf file. "
   ]
  }
 ],
 "metadata": {
  "anaconda-cloud": {},
  "kernelspec": {
   "display_name": "Python [default]",
   "language": "python",
   "name": "python3"
  },
  "language_info": {
   "codemirror_mode": {
    "name": "ipython",
    "version": 3
   },
   "file_extension": ".py",
   "mimetype": "text/x-python",
   "name": "python",
   "nbconvert_exporter": "python",
   "pygments_lexer": "ipython3",
   "version": "3.5.2"
  }
 },
 "nbformat": 4,
 "nbformat_minor": 1
}
